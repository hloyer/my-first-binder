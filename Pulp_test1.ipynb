{
 "cells": [
  {
   "cell_type": "code",
   "execution_count": null,
   "id": "30bcdabb-e9cb-4c9e-a473-06cedd4dff8d",
   "metadata": {},
   "outputs": [],
   "source": [
    "pip instal pulp"
   ]
  },
  {
   "cell_type": "code",
   "execution_count": null,
   "id": "c0a37a4f-5968-48d2-b532-706e20927afa",
   "metadata": {},
   "outputs": [],
   "source": [
    "from pulp import *\n",
    "\n",
    "# Définir les données d'entrée\n",
    "equipements = ['E1', 'E2', 'E3', 'E4']  # Liste des équipements à entretenir\n",
    "corps_metiers = ['CM1', 'CM2', 'CM3']  # Liste des corps de métier\n",
    "intervalles = {'CM1': 14, 'CM2': 21, 'CM3': 30}  # Intervalles de maintenance par corps de métier (en jours)\n",
    "temps_travail = {'CM1': 6, 'CM2': 8, 'CM3': 10}  # Temps de travail estimé par corps de métier (en heures)\n",
    "\n",
    "# Définir le problème d'optimisation linéaire\n",
    "prob = LpProblem(\"Maintenance_Preventive\", LpMinimize)\n",
    "\n",
    "# Définir les variables de décision\n",
    "x = LpVariable.dicts(\"Maintenance\", [(e, c) for e in equipements for c in corps_metiers], 0, 1, LpBinary)\n",
    "\n",
    "# Définir la fonction objectif\n",
    "prob += lpSum([x[(e, c)] * temps_travail[c] for e in equipements for c in corps_metiers])\n",
    "\n",
    "# Contrainte : chaque équipement doit être maintenu au moins une fois pendant la période de planification\n",
    "for e in equipements:\n",
    "    prob += lpSum([x[(e, c)] for c in corps_metiers]) == 1\n",
    "\n",
    "# Contrainte : la maintenance doit être effectuée dans l'intervalle spécifié pour chaque corps de métier\n",
    "for c in corps_metiers:\n",
    "    for i in range(0, len(equipements), intervalles[c]):\n",
    "        prob += lpSum([x[(equipements[e], c)] for e in range(i, min(i+intervalles[c], len(equipements)))]) >= 1\n",
    "\n",
    "# Résoudre le problème d'optimisation linéaire\n",
    "prob.solve()\n",
    "\n",
    "# Afficher les résultats\n",
    "print(\"Statut de la résolution : {}\".format(LpStatus[prob.status]))\n",
    "print(\"Coût total : {} heures\".format(round(value(prob.objective), 2)))\n",
    "\n",
    "# Afficher la planification de maintenance par équipement et par corps de métier\n",
    "for e in equipements:\n",
    "    print(\"Equipement {} :\".format(e))\n",
    "    for c in corps_metiers:\n",
    "        if x[(e, c)].value() == 1:\n",
    "            print(\"- {} : {} heures\".format(c, temps_travail[c]))\n",
    "\n",
    "# Afficher la charge de travail par corps de métier\n",
    "for c in corps_metiers:\n",
    "    temps_total = sum([x[(e, c)].value() * temps_travail[c] for e in equipements])\n",
    "    print(\"Charge de travail pour le corps de métier {} : {} heures\".format(c, temps_total))\n",
    "\t\n",
    "\n"
   ]
  }
 ],
 "metadata": {
  "kernelspec": {
   "display_name": "Python 3 (ipykernel)",
   "language": "python",
   "name": "python3"
  },
  "language_info": {
   "codemirror_mode": {
    "name": "ipython",
    "version": 3
   },
   "file_extension": ".py",
   "mimetype": "text/x-python",
   "name": "python",
   "nbconvert_exporter": "python",
   "pygments_lexer": "ipython3",
   "version": "3.10.9"
  }
 },
 "nbformat": 4,
 "nbformat_minor": 5
}
